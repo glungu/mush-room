{
 "cells": [
  {
   "cell_type": "markdown",
   "metadata": {},
   "source": [
    "# Bing & Google Image Downloader\n"
   ]
  },
  {
   "cell_type": "code",
   "execution_count": 1,
   "metadata": {},
   "outputs": [],
   "source": [
    "import cv2\n",
    "import os\n",
    "\n",
    "import requests\n",
    "from requests import exceptions\n",
    "from tqdm import tqdm_notebook\n",
    "\n",
    "# output dir\n",
    "# dir_output = 'data/желчные'\n",
    "# os.makedirs(dir_output, exist_ok=True)\n",
    "# if os.path.isdir(dir_output): print('Working directory:', os.path.abspath(dir_output))\n"
   ]
  },
  {
   "cell_type": "markdown",
   "metadata": {},
   "source": [
    "# Google: JavaScript code "
   ]
  },
  {
   "cell_type": "markdown",
   "metadata": {},
   "source": [
    "```\n",
    "urls = Array.from(document.querySelectorAll('.rg_di .rg_meta')).map(el=>JSON.parse(el.textContent).ou);\n",
    "window.open('data:text/csv;charset=utf-8,' + escape(urls.join('\\n')));\n",
    "```"
   ]
  },
  {
   "cell_type": "markdown",
   "metadata": {},
   "source": [
    "## Bing: Initialize"
   ]
  },
  {
   "cell_type": "code",
   "execution_count": 6,
   "metadata": {},
   "outputs": [],
   "source": [
    "# set your Microsoft Cognitive Services API key along with (1) the\n",
    "# maximum number of results for a given search and (2) the group size\n",
    "# for results (maximum of 50 per request)\n",
    "# Ключ 1: 8369e47c2ab54b9a9c4838c9bc9d29ff\n",
    "# Ключ 2: fa444f77248d4be89ef15449f36970f0 \n",
    "API_KEY = \"8369e47c2ab54b9a9c4838c9bc9d29ff\"\n",
    "MAX_RESULTS = 1000\n",
    "GROUP_SIZE = 50\n",
    " \n",
    "# set the endpoint API URL\n",
    "URL = \"https://api.cognitive.microsoft.com/bing/v7.0/images/search\""
   ]
  },
  {
   "cell_type": "markdown",
   "metadata": {},
   "source": [
    "## Bing: Get total number of results"
   ]
  },
  {
   "cell_type": "code",
   "execution_count": 17,
   "metadata": {},
   "outputs": [
    {
     "name": "stdout",
     "output_type": "stream",
     "text": [
      "Searching Bing API for 'перечный гриб'\n",
      "Total results: 948\n"
     ]
    }
   ],
   "source": [
    "# search term \n",
    "term = 'перечный гриб'\n",
    "\n",
    "# store the search term in a convenience variable then set the\n",
    "# headers and search parameters\n",
    "headers = {\"Ocp-Apim-Subscription-Key\" : API_KEY}\n",
    "params = {\"q\": term, \"offset\": 0, \"count\": GROUP_SIZE}\n",
    " \n",
    "# make the search\n",
    "print(\"Searching Bing API for '{}'\".format(term))\n",
    "search = requests.get(URL, headers=headers, params=params)\n",
    "search.raise_for_status()\n",
    " \n",
    "# grab the results from the search, including the total number of\n",
    "# estimated results returned by the Bing API\n",
    "results = search.json()\n",
    "estNumResults = min(results[\"totalEstimatedMatches\"], MAX_RESULTS)\n",
    "print(\"Total results:\", estNumResults)\n",
    " "
   ]
  },
  {
   "cell_type": "markdown",
   "metadata": {},
   "source": [
    "## Bing: Write URLs to file"
   ]
  },
  {
   "cell_type": "code",
   "execution_count": 18,
   "metadata": {},
   "outputs": [
    {
     "name": "stdout",
     "output_type": "stream",
     "text": [
      "Request for group 0-50 of 948...\n",
      "Request for group 50-100 of 948...\n",
      "Request for group 100-150 of 948...\n",
      "Request for group 150-200 of 948...\n",
      "Request for group 200-250 of 948...\n",
      "Request for group 250-300 of 948...\n",
      "Request for group 300-350 of 948...\n",
      "Request for group 350-400 of 948...\n",
      "Request for group 400-450 of 948...\n",
      "Request for group 450-500 of 948...\n",
      "Request for group 500-550 of 948...\n",
      "Request for group 550-600 of 948...\n",
      "Request for group 600-650 of 948...\n",
      "Request for group 650-700 of 948...\n",
      "Request for group 700-750 of 948...\n",
      "Request for group 750-800 of 948...\n",
      "Request for group 800-850 of 948...\n",
      "Request for group 850-900 of 948...\n",
      "Request for group 900-950 of 948...\n",
      "Done\n"
     ]
    }
   ],
   "source": [
    "f = open('data/bing_перечный.txt', \"a+\")\n",
    "\n",
    "for offset in range(0, estNumResults, GROUP_SIZE):\n",
    "    # update the search parameters using the current offset, then\n",
    "    # make the request to fetch the results\n",
    "    print(\"Request for group {}-{} of {}...\".format(offset, offset + GROUP_SIZE, estNumResults))\n",
    "    params[\"offset\"] = offset\n",
    "    search = requests.get(URL, headers=headers, params=params)\n",
    "    search.raise_for_status()\n",
    "    results = search.json()\n",
    "    \n",
    "    # loop over the results\n",
    "    for v in results[\"value\"]:\n",
    "        f.write(v[\"contentUrl\"] + '\\n')\n",
    "\n",
    "f.close()\n",
    "print('Done')"
   ]
  },
  {
   "cell_type": "markdown",
   "metadata": {},
   "source": [
    "## Function to download images"
   ]
  },
  {
   "cell_type": "code",
   "execution_count": 14,
   "metadata": {},
   "outputs": [],
   "source": [
    "# when attempting to download images from the web both the Python\n",
    "# programming language and the requests library have a number of\n",
    "# exceptions that can be thrown so let's build a list of them now\n",
    "# so we can filter on them\n",
    "EXCEPTIONS = set([IOError, FileNotFoundError,\n",
    "    exceptions.RequestException, exceptions.HTTPError,\n",
    "    exceptions.ConnectionError, exceptions.Timeout])\n",
    "\n",
    "\n",
    "def download_images_from_urls(filepath_urls, dirpath_dest):\n",
    "    os.makedirs(dirpath_dest, exist_ok=True)\n",
    "    print('Destination dir:', os.path.abspath(dirpath_dest))\n",
    "    \n",
    "    count_total = 0\n",
    "    count_deleted = 0\n",
    "    \n",
    "    with open(filepath_urls) as file_urls:\n",
    "        lines = file_urls.readlines()\n",
    "        \n",
    "        for line in tqdm_notebook(lines):\n",
    "            try:\n",
    "                url = line.rstrip('\\n')\n",
    "                r = requests.get(url, timeout=30, verify=False)\n",
    "                ext = url[url.rfind(\".\"):]\n",
    "                if '?' in ext: ext = ext[:ext.find('?')]\n",
    "                if '/' in ext: ext = ext[:ext.find('/')]\n",
    "                if '&' in ext: ext = ext[:ext.find('&')]\n",
    "                ext = ext.lower()\n",
    "                if ext not in ['.gif', '.jpg', '.jpeg', '.png']: \n",
    "                    ext = '.jpg'\n",
    "                \n",
    "                p = os.path.sep.join([dirpath_dest, \"{}{}\".format(str(count_total).zfill(8), ext)])\n",
    "                # write the image to disk\n",
    "                f = open(p, \"wb\")\n",
    "                f.write(r.content)\n",
    "                f.close()\n",
    "\n",
    "                # if os.path.isfile(p): print('File saved:', p)\n",
    "                # try to load the image from disk\n",
    "                # image = cv2.imread(p)\n",
    "\n",
    "            except Exception as e:\n",
    "                # check exception in our list of exceptions\n",
    "                print(e)\n",
    "                if type(e) in EXCEPTIONS: print(\"Skipping:\", url)\n",
    "                count_deleted += 1\n",
    "\n",
    "            # update the counter\n",
    "            count_total += 1\n",
    "        \n",
    "        print('Download completed. Total:', count_total, ', deleted:', count_deleted)\n",
    "        "
   ]
  },
  {
   "cell_type": "markdown",
   "metadata": {},
   "source": [
    "# Download from file containing URLs  "
   ]
  },
  {
   "cell_type": "code",
   "execution_count": 15,
   "metadata": {
    "scrolled": false
   },
   "outputs": [
    {
     "name": "stdout",
     "output_type": "stream",
     "text": [
      "Destination dir: C:\\DATA\\Projects\\mush-room\\data\\опята_bing\n"
     ]
    },
    {
     "data": {
      "application/vnd.jupyter.widget-view+json": {
       "model_id": "c9dc3349a1f44bffac0bc165d76a7503",
       "version_major": 2,
       "version_minor": 0
      },
      "text/plain": [
       "HBox(children=(IntProgress(value=0, max=1000), HTML(value='')))"
      ]
     },
     "metadata": {},
     "output_type": "display_data"
    },
    {
     "name": "stdout",
     "output_type": "stream",
     "text": [
      "('Connection aborted.', ConnectionResetError(10054, 'Удаленный хост принудительно разорвал существующее подключение', None, 10054, None))\n",
      "Skipping: http://otvet-plus.ru/iz/opjat-2.jpg\n",
      "('Connection aborted.', RemoteDisconnected('Remote end closed connection without response',))\n",
      "Skipping: https://primamedia.ru/f/big/1094/1093754.jpg\n",
      "HTTPConnectionPool(host='library.kharkov.ua', port=80): Read timed out.\n",
      "Skipping: http://library.kharkov.ua/expobook/LibKh00000000233.jpg\n",
      "('Connection aborted.', RemoteDisconnected('Remote end closed connection without response',))\n",
      "Skipping: https://primamedia.ru/f/big/1094/1093754.jpg\n",
      "HTTPConnectionPool(host='www.family-port.ru', port=80): Max retries exceeded with url: /RaskraskiSkazkiBabaJaga4.jpg (Caused by NewConnectionError('<urllib3.connection.HTTPConnection object at 0x0000000006B1D390>: Failed to establish a new connection: [WinError 10060] Попытка установить соединение была безуспешной, т.к. от другого компьютера за требуемое время не получен нужный отклик, или было разорвано уже установленное соединение из-за неверного отклика уже подключенного компьютера',))\n",
      "Skipping: http://www.family-port.ru/RaskraskiSkazkiBabaJaga4.jpg\n",
      "\n",
      "Download completed. Total: 1000 , deleted: 5\n",
      "Destination dir: C:\\DATA\\Projects\\mush-room\\data\\рыжики_bing\n"
     ]
    },
    {
     "data": {
      "application/vnd.jupyter.widget-view+json": {
       "model_id": "5a85beebe4e24959a1b137a962c22b1d",
       "version_major": 2,
       "version_minor": 0
      },
      "text/plain": [
       "HBox(children=(IntProgress(value=0, max=808), HTML(value='')))"
      ]
     },
     "metadata": {},
     "output_type": "display_data"
    },
    {
     "name": "stdout",
     "output_type": "stream",
     "text": [
      "\n",
      "Download completed. Total: 808 , deleted: 0\n",
      "Destination dir: C:\\DATA\\Projects\\mush-room\\data\\маслята_bing\n"
     ]
    },
    {
     "data": {
      "application/vnd.jupyter.widget-view+json": {
       "model_id": "602b2c8aa5644584b33a53c8c393193c",
       "version_major": 2,
       "version_minor": 0
      },
      "text/plain": [
       "HBox(children=(IntProgress(value=0, max=998), HTML(value='')))"
      ]
     },
     "metadata": {},
     "output_type": "display_data"
    },
    {
     "name": "stdout",
     "output_type": "stream",
     "text": [
      "HTTPSConnectionPool(host='pngimg.com', port=443): Max retries exceeded with url: /uploads/mushroom/mushroom_PNG3209.png (Caused by SSLError(SSLError(1, '[SSL: TLSV1_ALERT_PROTOCOL_VERSION] tlsv1 alert protocol version (_ssl.c:833)'),))\n",
      "\n",
      "Download completed. Total: 998 , deleted: 1\n",
      "Destination dir: C:\\DATA\\Projects\\mush-room\\data\\желчные_bing\n"
     ]
    },
    {
     "data": {
      "application/vnd.jupyter.widget-view+json": {
       "model_id": "879fca11b6c64561b49f8a6d2fc75ae5",
       "version_major": 2,
       "version_minor": 0
      },
      "text/plain": [
       "HBox(children=(IntProgress(value=0, max=984), HTML(value='')))"
      ]
     },
     "metadata": {},
     "output_type": "display_data"
    },
    {
     "name": "stdout",
     "output_type": "stream",
     "text": [
      "HTTPConnectionPool(host='spasisebya.ucoz.ru', port=80): Max retries exceeded with url: /Inter/svin.jpg (Caused by NewConnectionError('<urllib3.connection.HTTPConnection object at 0x0000000006B1D710>: Failed to establish a new connection: [WinError 10060] Попытка установить соединение была безуспешной, т.к. от другого компьютера за требуемое время не получен нужный отклик, или было разорвано уже установленное соединение из-за неверного отклика уже подключенного компьютера',))\n",
      "Skipping: http://spasisebya.ucoz.ru/Inter/svin.jpg\n",
      "HTTPConnectionPool(host='spasisebya.ucoz.ru', port=80): Max retries exceeded with url: /Inter/svin.jpg (Caused by NewConnectionError('<urllib3.connection.HTTPConnection object at 0x00000000055FE2B0>: Failed to establish a new connection: [WinError 10060] Попытка установить соединение была безуспешной, т.к. от другого компьютера за требуемое время не получен нужный отклик, или было разорвано уже установленное соединение из-за неверного отклика уже подключенного компьютера',))\n",
      "Skipping: http://spasisebya.ucoz.ru/Inter/svin.jpg\n",
      "HTTPConnectionPool(host='spasisebya.ucoz.ru', port=80): Max retries exceeded with url: /Inter/smert_v_jubochke.jpg (Caused by NewConnectionError('<urllib3.connection.HTTPConnection object at 0x00000000055FE470>: Failed to establish a new connection: [WinError 10060] Попытка установить соединение была безуспешной, т.к. от другого компьютера за требуемое время не получен нужный отклик, или было разорвано уже установленное соединение из-за неверного отклика уже подключенного компьютера',))\n",
      "Skipping: http://spasisebya.ucoz.ru/Inter/smert_v_jubochke.jpg\n",
      "HTTPConnectionPool(host='spasisebya.ucoz.ru', port=80): Max retries exceeded with url: /Inter/stana.jpg (Caused by NewConnectionError('<urllib3.connection.HTTPConnection object at 0x0000000005616D30>: Failed to establish a new connection: [WinError 10060] Попытка установить соединение была безуспешной, т.к. от другого компьютера за требуемое время не получен нужный отклик, или было разорвано уже установленное соединение из-за неверного отклика уже подключенного компьютера',))\n",
      "Skipping: http://spasisebya.ucoz.ru/Inter/stana.jpg\n",
      "HTTPConnectionPool(host='spasisebya.ucoz.ru', port=80): Max retries exceeded with url: /Inter/mukhomor.jpg (Caused by NewConnectionError('<urllib3.connection.HTTPConnection object at 0x0000000005616F60>: Failed to establish a new connection: [WinError 10060] Попытка установить соединение была безуспешной, т.к. от другого компьютера за требуемое время не получен нужный отклик, или было разорвано уже установленное соединение из-за неверного отклика уже подключенного компьютера',))\n",
      "Skipping: http://spasisebya.ucoz.ru/Inter/mukhomor.jpg\n",
      "HTTPConnectionPool(host='www.everyday.com.ua', port=80): Max retries exceeded with url: /greentea/grib-jelch.jpg (Caused by NewConnectionError('<urllib3.connection.HTTPConnection object at 0x0000000005616128>: Failed to establish a new connection: [WinError 10060] Попытка установить соединение была безуспешной, т.к. от другого компьютера за требуемое время не получен нужный отклик, или было разорвано уже установленное соединение из-за неверного отклика уже подключенного компьютера',))\n",
      "Skipping: http://www.everyday.com.ua/greentea/grib-jelch.jpg\n",
      "\n",
      "Download completed. Total: 984 , deleted: 6\n"
     ]
    }
   ],
   "source": [
    "# from fastai.vision import *\n",
    "# download_images('data/bing_лисички.txt', dir_dest, max_pics=1000)\n",
    "\n",
    "import warnings; \n",
    "warnings.simplefilter('ignore')\n",
    "\n",
    "download_images_from_urls('data/bing_опята.txt', 'data/опята_bing')\n",
    "download_images_from_urls('data/bing_рыжики.txt', 'data/рыжики_bing')\n",
    "download_images_from_urls('data/bing_маслята.txt', 'data/маслята_bing')\n",
    "download_images_from_urls('data/bing_желчные.txt', 'data/желчные_bing')"
   ]
  },
  {
   "cell_type": "markdown",
   "metadata": {},
   "source": [
    "# Rename files"
   ]
  },
  {
   "cell_type": "code",
   "execution_count": 2,
   "metadata": {},
   "outputs": [],
   "source": [
    "def rename_files_suffix(dirpath, suffix):\n",
    "    for f in tqdm_notebook(os.listdir(dirpath)):\n",
    "        filepath = os.path.join(dirpath, f)\n",
    "        if os.path.isfile(filepath):\n",
    "            fsplit = os.path.splitext(f)\n",
    "            os.rename(filepath, os.path.join(dirpath, fsplit[0] + suffix + fsplit[1]))\n",
    "            \n",
    "def rename_files_counter(dirpath, prefix):\n",
    "    contents = os.listdir(dirpath)\n",
    "    for i, f in tqdm_notebook(enumerate(contents), total=len(contents)):\n",
    "        filepath = os.path.join(dirpath, f)\n",
    "        if os.path.isfile(filepath):\n",
    "            fsplit = os.path.splitext(f)\n",
    "            os.rename(filepath, os.path.join(dirpath, prefix + str(i).zfill(4) + fsplit[1]))\n"
   ]
  },
  {
   "cell_type": "code",
   "execution_count": 4,
   "metadata": {
    "scrolled": true
   },
   "outputs": [
    {
     "data": {
      "application/vnd.jupyter.widget-view+json": {
       "model_id": "da94f57970194e1a9cd83faf573e35d9",
       "version_major": 2,
       "version_minor": 0
      },
      "text/plain": [
       "HBox(children=(IntProgress(value=0, max=593), HTML(value='')))"
      ]
     },
     "metadata": {},
     "output_type": "display_data"
    },
    {
     "name": "stdout",
     "output_type": "stream",
     "text": [
      "\n"
     ]
    }
   ],
   "source": [
    "rename_files_suffix('data/рыжики_google', '_')"
   ]
  },
  {
   "cell_type": "code",
   "execution_count": 5,
   "metadata": {},
   "outputs": [
    {
     "data": {
      "application/vnd.jupyter.widget-view+json": {
       "model_id": "50b972938cbf4a47bd691b1c8cf88fd0",
       "version_major": 2,
       "version_minor": 0
      },
      "text/plain": [
       "HBox(children=(IntProgress(value=0, max=716), HTML(value='')))"
      ]
     },
     "metadata": {},
     "output_type": "display_data"
    },
    {
     "name": "stdout",
     "output_type": "stream",
     "text": [
      "\n"
     ]
    }
   ],
   "source": [
    "rename_files_counter('data/опята', 'опята_')"
   ]
  },
  {
   "cell_type": "code",
   "execution_count": null,
   "metadata": {},
   "outputs": [],
   "source": []
  }
 ],
 "metadata": {
  "kernelspec": {
   "display_name": "Python 3",
   "language": "python",
   "name": "python3"
  },
  "language_info": {
   "codemirror_mode": {
    "name": "ipython",
    "version": 3
   },
   "file_extension": ".py",
   "mimetype": "text/x-python",
   "name": "python",
   "nbconvert_exporter": "python",
   "pygments_lexer": "ipython3",
   "version": "3.6.5"
  }
 },
 "nbformat": 4,
 "nbformat_minor": 2
}
