{
 "cells": [
  {
   "cell_type": "markdown",
   "metadata": {},
   "source": [
    "# Bing & Google Image Downloader\n"
   ]
  },
  {
   "cell_type": "code",
   "execution_count": 1,
   "metadata": {},
   "outputs": [
    {
     "name": "stdout",
     "output_type": "stream",
     "text": [
      "Done\n"
     ]
    }
   ],
   "source": [
    "import cv2\n",
    "import os\n",
    "\n",
    "import requests\n",
    "from requests import exceptions\n",
    "from tqdm import tqdm_notebook\n",
    "\n",
    "\n",
    "# search term \n",
    "term = 'лисички грибы -ложные'\n",
    "\n",
    "# output dir\n",
    "# dir_output = 'data/лисички'\n",
    "# os.makedirs(dir_output, exist_ok=True)\n",
    "# if os.path.isdir(dir_output): print('Working directory:', os.path.abspath(dir_output))\n",
    "print('Done')\n"
   ]
  },
  {
   "cell_type": "markdown",
   "metadata": {},
   "source": [
    "# Google: JavaScript code "
   ]
  },
  {
   "cell_type": "markdown",
   "metadata": {},
   "source": [
    "```\n",
    "urls = Array.from(document.querySelectorAll('.rg_di .rg_meta')).map(el=>JSON.parse(el.textContent).ou);\n",
    "window.open('data:text/csv;charset=utf-8,' + escape(urls.join('\\n')));\n",
    "```"
   ]
  },
  {
   "cell_type": "markdown",
   "metadata": {},
   "source": [
    "## Bing: Initialize"
   ]
  },
  {
   "cell_type": "code",
   "execution_count": 2,
   "metadata": {},
   "outputs": [],
   "source": [
    "# set your Microsoft Cognitive Services API key along with (1) the\n",
    "# maximum number of results for a given search and (2) the group size\n",
    "# for results (maximum of 50 per request)\n",
    "# API_KEY = \"11c318e565514864bfbee8c6543bd112\"\n",
    "API_KEY = \"4b550cda083a43e992d7a4c388d3f020\"\n",
    "MAX_RESULTS = 1000\n",
    "GROUP_SIZE = 50\n",
    " \n",
    "# set the endpoint API URL\n",
    "URL = \"https://api.cognitive.microsoft.com/bing/v7.0/images/search\""
   ]
  },
  {
   "cell_type": "markdown",
   "metadata": {},
   "source": [
    "## Bing: Get total number of results"
   ]
  },
  {
   "cell_type": "code",
   "execution_count": 40,
   "metadata": {},
   "outputs": [
    {
     "name": "stdout",
     "output_type": "stream",
     "text": [
      "Searching Bing API for 'лисички грибы -ложные'\n",
      "Total results: 981\n"
     ]
    }
   ],
   "source": [
    "# store the search term in a convenience variable then set the\n",
    "# headers and search parameters\n",
    "headers = {\"Ocp-Apim-Subscription-Key\" : API_KEY}\n",
    "params = {\"q\": term, \"offset\": 0, \"count\": GROUP_SIZE}\n",
    " \n",
    "# make the search\n",
    "print(\"Searching Bing API for '{}'\".format(term))\n",
    "search = requests.get(URL, headers=headers, params=params)\n",
    "search.raise_for_status()\n",
    " \n",
    "# grab the results from the search, including the total number of\n",
    "# estimated results returned by the Bing API\n",
    "results = search.json()\n",
    "estNumResults = min(results[\"totalEstimatedMatches\"], MAX_RESULTS)\n",
    "print(\"Total results:\", estNumResults)\n",
    " "
   ]
  },
  {
   "cell_type": "markdown",
   "metadata": {},
   "source": [
    "## Bing: Write URLs to file"
   ]
  },
  {
   "cell_type": "code",
   "execution_count": 41,
   "metadata": {},
   "outputs": [
    {
     "name": "stdout",
     "output_type": "stream",
     "text": [
      "Request for group 0-50 of 981...\n",
      "Request for group 50-100 of 981...\n",
      "Request for group 100-150 of 981...\n",
      "Request for group 150-200 of 981...\n",
      "Request for group 200-250 of 981...\n",
      "Request for group 250-300 of 981...\n",
      "Request for group 300-350 of 981...\n",
      "Request for group 350-400 of 981...\n",
      "Request for group 400-450 of 981...\n",
      "Request for group 450-500 of 981...\n",
      "Request for group 500-550 of 981...\n",
      "Request for group 550-600 of 981...\n",
      "Request for group 600-650 of 981...\n",
      "Request for group 650-700 of 981...\n",
      "Request for group 700-750 of 981...\n",
      "Request for group 750-800 of 981...\n",
      "Request for group 800-850 of 981...\n",
      "Request for group 850-900 of 981...\n",
      "Request for group 900-950 of 981...\n",
      "Request for group 950-1000 of 981...\n",
      "Done\n"
     ]
    }
   ],
   "source": [
    "f = open('data/bing_лисички.txt', \"a+\")\n",
    "\n",
    "for offset in range(0, estNumResults, GROUP_SIZE):\n",
    "    # update the search parameters using the current offset, then\n",
    "    # make the request to fetch the results\n",
    "    print(\"Request for group {}-{} of {}...\".format(offset, offset + GROUP_SIZE, estNumResults))\n",
    "    params[\"offset\"] = offset\n",
    "    search = requests.get(URL, headers=headers, params=params)\n",
    "    search.raise_for_status()\n",
    "    results = search.json()\n",
    "    \n",
    "    # loop over the results\n",
    "    for v in results[\"value\"]:\n",
    "        f.write(v[\"contentUrl\"] + '\\n')\n",
    "\n",
    "f.close()\n",
    "print('Done')"
   ]
  },
  {
   "cell_type": "markdown",
   "metadata": {},
   "source": [
    "## Function to download images"
   ]
  },
  {
   "cell_type": "code",
   "execution_count": 2,
   "metadata": {},
   "outputs": [],
   "source": [
    "# when attempting to download images from the web both the Python\n",
    "# programming language and the requests library have a number of\n",
    "# exceptions that can be thrown so let's build a list of them now\n",
    "# so we can filter on them\n",
    "EXCEPTIONS = set([IOError, FileNotFoundError,\n",
    "    exceptions.RequestException, exceptions.HTTPError,\n",
    "    exceptions.ConnectionError, exceptions.Timeout])\n",
    "\n",
    "\n",
    "def download_images_from_urls(filepath_urls, dirpath_dest):\n",
    "    os.makedirs(dirpath_dest, exist_ok=True)\n",
    "    print('Destination dir:', os.path.abspath(dirpath_dest))\n",
    "    \n",
    "    count_total = 0\n",
    "    count_deleted = 0\n",
    "    \n",
    "    with open(filepath_urls) as file_urls:\n",
    "        lines = file_urls.readlines()\n",
    "        \n",
    "        for line in tqdm_notebook(lines):\n",
    "            try:\n",
    "                url = line.rstrip('\\n')\n",
    "                r = requests.get(url, timeout=30, verify=False)\n",
    "                ext = url[url.rfind(\".\"):]\n",
    "                if '?' in ext: ext = ext[:ext.find('?')]\n",
    "                if '/' in ext: ext = ext[:ext.find('/')]\n",
    "                if '&' in ext: ext = ext[:ext.find('&')]\n",
    "                ext = ext.lower()\n",
    "                if ext not in ['.gif', '.jpg', '.jpeg', '.png']: \n",
    "                    ext = '.jpg'\n",
    "                \n",
    "                p = os.path.sep.join([dirpath_dest, \"{}{}\".format(str(count_total).zfill(8), ext)])\n",
    "                # write the image to disk\n",
    "                f = open(p, \"wb\")\n",
    "                f.write(r.content)\n",
    "                f.close()\n",
    "\n",
    "                # if os.path.isfile(p): print('File saved:', p)\n",
    "                # try to load the image from disk\n",
    "                # image = cv2.imread(p)\n",
    "\n",
    "            except Exception as e:\n",
    "                # check exception in our list of exceptions\n",
    "                print(e)\n",
    "                if type(e) in EXCEPTIONS: print(\"Skipping:\", url)\n",
    "                count_deleted += 1\n",
    "\n",
    "            # update the counter\n",
    "            count_total += 1\n",
    "        \n",
    "        print('Download completed. Total:', count_total, ', deleted:', count_deleted)\n",
    "        "
   ]
  },
  {
   "cell_type": "markdown",
   "metadata": {},
   "source": [
    "# Download from file containing URLs  "
   ]
  },
  {
   "cell_type": "code",
   "execution_count": 25,
   "metadata": {
    "scrolled": false
   },
   "outputs": [
    {
     "name": "stdout",
     "output_type": "stream",
     "text": [
      "Destination dir: C:\\DATA\\Projects\\mush-room\\data\\волнушки_google\n"
     ]
    },
    {
     "data": {
      "application/vnd.jupyter.widget-view+json": {
       "model_id": "e89b1c850c5f4631bab503b59a3e0b27",
       "version_major": 2,
       "version_minor": 0
      },
      "text/plain": [
       "HBox(children=(IntProgress(value=0, max=456), HTML(value='')))"
      ]
     },
     "metadata": {},
     "output_type": "display_data"
    },
    {
     "name": "stdout",
     "output_type": "stream",
     "text": [
      "\n",
      "Download completed. Total: 456 , deleted: 0\n",
      "Destination dir: C:\\DATA\\Projects\\mush-room\\data\\моховики_google\n"
     ]
    },
    {
     "data": {
      "application/vnd.jupyter.widget-view+json": {
       "model_id": "7ef908a7714849d198c4a8df7651a446",
       "version_major": 2,
       "version_minor": 0
      },
      "text/plain": [
       "HBox(children=(IntProgress(value=0, max=517), HTML(value='')))"
      ]
     },
     "metadata": {},
     "output_type": "display_data"
    },
    {
     "name": "stdout",
     "output_type": "stream",
     "text": [
      "\n",
      "Download completed. Total: 517 , deleted: 0\n",
      "Destination dir: C:\\DATA\\Projects\\mush-room\\data\\сыроежки_google\n"
     ]
    },
    {
     "data": {
      "application/vnd.jupyter.widget-view+json": {
       "model_id": "04dca51b0ce148d0a031496cc5412f75",
       "version_major": 2,
       "version_minor": 0
      },
      "text/plain": [
       "HBox(children=(IntProgress(value=0, max=645), HTML(value='')))"
      ]
     },
     "metadata": {},
     "output_type": "display_data"
    },
    {
     "name": "stdout",
     "output_type": "stream",
     "text": [
      "\n",
      "Download completed. Total: 645 , deleted: 0\n"
     ]
    }
   ],
   "source": [
    "# from fastai.vision import *\n",
    "# download_images('data/bing_лисички.txt', dir_dest, max_pics=1000)\n",
    "\n",
    "import warnings; \n",
    "warnings.simplefilter('ignore')\n",
    "\n",
    "download_images_from_urls('data/google_волнушки.txt', 'data/волнушки_google')\n",
    "download_images_from_urls('data/google_моховики.txt', 'data/моховики_google')\n",
    "download_images_from_urls('data/google_сыроежки.txt', 'data/сыроежки_google')"
   ]
  },
  {
   "cell_type": "markdown",
   "metadata": {},
   "source": [
    "# Rename files"
   ]
  },
  {
   "cell_type": "code",
   "execution_count": 2,
   "metadata": {},
   "outputs": [],
   "source": [
    "def rename_files_suffix(dirpath, suffix):\n",
    "    for f in tqdm_notebook(os.listdir(dirpath)):\n",
    "        filepath = os.path.join(dirpath, f)\n",
    "        if os.path.isfile(filepath):\n",
    "            fsplit = os.path.splitext(f)\n",
    "            os.rename(filepath, os.path.join(dirpath, fsplit[0] + suffix + fsplit[1]))\n",
    "            \n",
    "def rename_files_counter(dirpath, prefix):\n",
    "    contents = os.listdir(dirpath)\n",
    "    for i, f in tqdm_notebook(enumerate(contents), total=len(contents)):\n",
    "        filepath = os.path.join(dirpath, f)\n",
    "        if os.path.isfile(filepath):\n",
    "            fsplit = os.path.splitext(f)\n",
    "            os.rename(filepath, os.path.join(dirpath, prefix + str(i).zfill(4) + fsplit[1]))\n"
   ]
  },
  {
   "cell_type": "code",
   "execution_count": 12,
   "metadata": {
    "scrolled": true
   },
   "outputs": [
    {
     "data": {
      "application/vnd.jupyter.widget-view+json": {
       "model_id": "8bcb333fd53f4640a304f96624fb7fec",
       "version_major": 2,
       "version_minor": 0
      },
      "text/plain": [
       "HBox(children=(IntProgress(value=0, max=645), HTML(value='')))"
      ]
     },
     "metadata": {},
     "output_type": "display_data"
    },
    {
     "name": "stdout",
     "output_type": "stream",
     "text": [
      "\n"
     ]
    }
   ],
   "source": [
    "rename_files_suffix('data/сыроежки_google', '_')"
   ]
  },
  {
   "cell_type": "code",
   "execution_count": 4,
   "metadata": {},
   "outputs": [
    {
     "data": {
      "application/vnd.jupyter.widget-view+json": {
       "model_id": "71b5ed4e2a234b7c8d41375e29881e8d",
       "version_major": 2,
       "version_minor": 0
      },
      "text/plain": [
       "HBox(children=(IntProgress(value=0, max=992), HTML(value='')))"
      ]
     },
     "metadata": {},
     "output_type": "display_data"
    },
    {
     "name": "stdout",
     "output_type": "stream",
     "text": [
      "\n"
     ]
    }
   ],
   "source": [
    "rename_files_counter('data/подберезовики', 'подберезовик_')"
   ]
  },
  {
   "cell_type": "code",
   "execution_count": null,
   "metadata": {},
   "outputs": [],
   "source": []
  }
 ],
 "metadata": {
  "kernelspec": {
   "display_name": "Python 3",
   "language": "python",
   "name": "python3"
  },
  "language_info": {
   "codemirror_mode": {
    "name": "ipython",
    "version": 3
   },
   "file_extension": ".py",
   "mimetype": "text/x-python",
   "name": "python",
   "nbconvert_exporter": "python",
   "pygments_lexer": "ipython3",
   "version": "3.6.5"
  }
 },
 "nbformat": 4,
 "nbformat_minor": 2
}
